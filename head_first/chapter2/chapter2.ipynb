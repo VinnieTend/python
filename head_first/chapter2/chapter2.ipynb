{
 "cells": [
  {
   "cell_type": "code",
   "execution_count": 7,
   "metadata": {
    "collapsed": false
   },
   "outputs": [
    {
     "ename": "TypeError",
     "evalue": "print_lol() takes 1 positional argument but 2 were given",
     "output_type": "error",
     "traceback": [
      "\u001b[1;31m---------------------------------------------------------------------------\u001b[0m",
      "\u001b[1;31mTypeError\u001b[0m                                 Traceback (most recent call last)",
      "\u001b[1;32m<ipython-input-7-15c3a790a9c1>\u001b[0m in \u001b[0;36m<module>\u001b[1;34m()\u001b[0m\n\u001b[0;32m      3\u001b[0m     \u001b[1;34m'The Holy Grail'\u001b[0m\u001b[1;33m,\u001b[0m\u001b[1;36m1975\u001b[0m\u001b[1;33m,\u001b[0m\u001b[1;34m'Terry Jones & Terry Gilliam'\u001b[0m\u001b[1;33m,\u001b[0m\u001b[1;36m91\u001b[0m\u001b[1;33m,\u001b[0m\u001b[1;33m[\u001b[0m\u001b[1;34m\"Graham Chapman\"\u001b[0m\u001b[1;33m,\u001b[0m\u001b[1;33m[\u001b[0m\u001b[1;34m\"Michael Palin\"\u001b[0m\u001b[1;33m,\u001b[0m\u001b[1;34m\"John cleese\"\u001b[0m\u001b[1;33m,\u001b[0m\u001b[1;34m\"Terry \"\u001b[0m\u001b[1;33m,\u001b[0m\u001b[1;34m\"eric\"\u001b[0m\u001b[1;33m]\u001b[0m\u001b[1;33m]\u001b[0m\u001b[1;33m\u001b[0m\u001b[0m\n\u001b[0;32m      4\u001b[0m ]\n\u001b[1;32m----> 5\u001b[1;33m \u001b[0mnester\u001b[0m\u001b[1;33m.\u001b[0m\u001b[0mprint_lol\u001b[0m\u001b[1;33m(\u001b[0m\u001b[0mmovies\u001b[0m\u001b[1;33m,\u001b[0m\u001b[1;36m0\u001b[0m\u001b[1;33m)\u001b[0m\u001b[1;33m\u001b[0m\u001b[0m\n\u001b[0m",
      "\u001b[1;31mTypeError\u001b[0m: print_lol() takes 1 positional argument but 2 were given"
     ]
    }
   ],
   "source": [
    "import nester;\n",
    "movies = [\n",
    "    'The Holy Grail',1975,'Terry Jones & Terry Gilliam',91,[\"Graham Chapman\",[\"Michael Palin\",\"John cleese\",\"Terry \",\"eric\"]]\n",
    "]\n",
    "nester.print_lol(movies,0)"
   ]
  },
  {
   "cell_type": "code",
   "execution_count": null,
   "metadata": {
    "collapsed": true
   },
   "outputs": [],
   "source": []
  }
 ],
 "metadata": {
  "kernelspec": {
   "display_name": "Python 3",
   "language": "python",
   "name": "python3"
  },
  "language_info": {
   "codemirror_mode": {
    "name": "ipython",
    "version": 3
   },
   "file_extension": ".py",
   "mimetype": "text/x-python",
   "name": "python",
   "nbconvert_exporter": "python",
   "pygments_lexer": "ipython3",
   "version": "3.4.3"
  }
 },
 "nbformat": 4,
 "nbformat_minor": 0
}
